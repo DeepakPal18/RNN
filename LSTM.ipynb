{
 "cells": [
  {
   "cell_type": "code",
   "execution_count": 14,
   "metadata": {
    "id": "Yxnz1dvS3G2R"
   },
   "outputs": [],
   "source": [
    "import numpy as np\n",
    "import pandas as pd\n",
    "import tensorflow as tf\n",
    "from tensorflow import keras\n",
    "from keras.layers import Dense,LSTM,Embedding\n",
    "from keras.datasets import imdb\n",
    "from keras.models import Sequential\n",
    "from keras.preprocessing import sequence\n",
    "np.random.seed(11)"
   ]
  },
  {
   "cell_type": "code",
   "execution_count": 15,
   "metadata": {
    "id": "Ds54plsg3HUi"
   },
   "outputs": [],
   "source": [
    "(x_train,y_train),(x_test,y_test) = imdb.load_data(num_words = 5000)"
   ]
  },
  {
   "cell_type": "code",
   "execution_count": 16,
   "metadata": {
    "colab": {
     "base_uri": "https://localhost:8080/"
    },
    "id": "1T2aswgi3HW4",
    "outputId": "afe38ba0-43a7-4e0d-b42e-3289888c4272"
   },
   "outputs": [
    {
     "data": {
      "text/plain": [
       "(25000,)"
      ]
     },
     "execution_count": 16,
     "metadata": {},
     "output_type": "execute_result"
    }
   ],
   "source": [
    "x_train.shape"
   ]
  },
  {
   "cell_type": "code",
   "execution_count": 17,
   "metadata": {
    "colab": {
     "base_uri": "https://localhost:8080/"
    },
    "id": "FX6Fta6w3HZG",
    "outputId": "b1bc160a-5afe-4531-9ceb-4bec87a67b13"
   },
   "outputs": [
    {
     "data": {
      "text/plain": [
       "4987"
      ]
     },
     "execution_count": 17,
     "metadata": {},
     "output_type": "execute_result"
    }
   ],
   "source": [
    "max(np.max(x_train))"
   ]
  },
  {
   "cell_type": "code",
   "execution_count": 18,
   "metadata": {
    "id": "J1l6_3dw3HbL"
   },
   "outputs": [],
   "source": [
    "## if data is not preprocessed pls do encoding ; integer or embedding \n",
    "## this data is preprocessed"
   ]
  },
  {
   "cell_type": "code",
   "execution_count": 19,
   "metadata": {
    "id": "j39v48sw3Hdk"
   },
   "outputs": [],
   "source": [
    "# padding to make all reviews of same length\n",
    "from keras.utils import pad_sequences\n",
    "x_train = pad_sequences(x_train,padding = 'pre',maxlen=500) #padding ='pre' giving good results\n",
    "x_test = pad_sequences(x_test,padding = 'pre',maxlen=500)"
   ]
  },
  {
   "cell_type": "code",
   "execution_count": 20,
   "metadata": {
    "colab": {
     "base_uri": "https://localhost:8080/"
    },
    "id": "VsRhff4m3Hhs",
    "outputId": "9f923aab-8c46-4c0e-a853-1bda6afd0478"
   },
   "outputs": [
    {
     "data": {
      "text/plain": [
       "array([   0,    0,    0,    0,    0,    0,    0,    0,    0,    0,    0,\n",
       "          0,    0,    0,    0,    0,    0,    0,    0,    0,    0,    0,\n",
       "          0,    0,    0,    0,    0,    0,    0,    0,    0,    0,    0,\n",
       "          0,    0,    0,    0,    0,    0,    0,    0,    0,    0,    0,\n",
       "          0,    0,    0,    0,    0,    0,    0,    0,    0,    0,    0,\n",
       "          0,    0,    0,    0,    0,    0,    0,    0,    0,    0,    0,\n",
       "          0,    0,    0,    0,    0,    0,    0,    0,    0,    0,    0,\n",
       "          0,    0,    0,    0,    0,    0,    0,    0,    0,    0,    0,\n",
       "          0,    0,    0,    0,    0,    0,    0,    0,    0,    0,    0,\n",
       "          0,    0,    0,    0,    0,    0,    0,    0,    0,    0,    0,\n",
       "          0,    0,    0,    0,    0,    0,    0,    0,    0,    0,    0,\n",
       "          0,    0,    0,    0,    0,    0,    0,    0,    0,    0,    0,\n",
       "          0,    0,    0,    0,    0,    0,    0,    0,    0,    0,    0,\n",
       "          0,    0,    0,    0,    0,    0,    0,    0,    0,    0,    0,\n",
       "          0,    0,    0,    0,    0,    0,    0,    0,    0,    0,    0,\n",
       "          0,    0,    0,    0,    0,    0,    0,    0,    0,    0,    0,\n",
       "          0,    0,    0,    0,    0,    0,    0,    0,    0,    0,    0,\n",
       "          0,    0,    0,    0,    0,    0,    0,    0,    0,    0,    0,\n",
       "          0,    0,    0,    0,    0,    0,    0,    0,    0,    0,    0,\n",
       "          0,    0,    0,    0,    0,    0,    0,    0,    0,    0,    0,\n",
       "          0,    0,    0,    0,    0,    0,    0,    0,    0,    0,    0,\n",
       "          0,    0,    0,    0,    0,    0,    0,    0,    0,    0,    0,\n",
       "          0,    0,    0,    0,    0,    0,    0,    0,    0,    0,    0,\n",
       "          0,    0,    0,    0,    0,    0,    0,    0,    0,    0,    0,\n",
       "          0,    0,    0,    0,    0,    0,    0,    0,    0,    0,    0,\n",
       "          0,    0,    0,    0,    0,    0,    0,    0,    0,    0,    0,\n",
       "          0,    0,    0,    0,    0,    0,    0,    0,    0,    0,    0,\n",
       "          0,    0,    0,    0,    0,    0,    0,    0,    0,    0,    0,\n",
       "          0,    0,    0,    0,    0,    0,    0,    0,    0,    0,    0,\n",
       "          0,    0,    0,    0,    0,    0,    0,    0,    0,    0,    0,\n",
       "          0,    0,    0,    0,    0,    0,    0,    0,    0,    0,    0,\n",
       "          0,    0,    0,    0,    0,    0,    0,    0,    0,    0,    0,\n",
       "          0,    0,    0,    0,    0,    0,    0,    1,   14,   47,    8,\n",
       "         30,   31,    7,    4,  249,  108,    7,    4,    2,   54,   61,\n",
       "        369,   13,   71,  149,   14,   22,  112,    4, 2401,  311,   12,\n",
       "         16, 3711,   33,   75,   43, 1829,  296,    4,   86,  320,   35,\n",
       "        534,   19,  263, 4821, 1301,    4, 1873,   33,   89,   78,   12,\n",
       "         66,   16,    4,  360,    7,    4,   58,  316,  334,   11,    4,\n",
       "       1716,   43,  645,  662,    8,  257,   85, 1200,   42, 1228, 2578,\n",
       "         83,   68, 3912,   15,   36,  165, 1539,  278,   36,   69,    2,\n",
       "        780,    8,  106,   14,    2, 1338,   18,    6,   22,   12,  215,\n",
       "         28,  610,   40,    6,   87,  326,   23, 2300,   21,   23,   22,\n",
       "         12,  272,   40,   57,   31,   11,    4,   22,   47,    6, 2307,\n",
       "         51,    9,  170,   23,  595,  116,  595, 1352,   13,  191,   79,\n",
       "        638,   89,    2,   14,    9,    8,  106,  607,  624,   35,  534,\n",
       "          6,  227,    7,  129,  113], dtype=int32)"
      ]
     },
     "execution_count": 20,
     "metadata": {},
     "output_type": "execute_result"
    }
   ],
   "source": [
    "x_train[2]"
   ]
  },
  {
   "cell_type": "code",
   "execution_count": 21,
   "metadata": {
    "colab": {
     "base_uri": "https://localhost:8080/"
    },
    "id": "O-p6oDG53Hj2",
    "outputId": "2e3c2740-f00d-4cd2-8ab8-441261d36d95"
   },
   "outputs": [
    {
     "name": "stdout",
     "output_type": "stream",
     "text": [
      "Epoch 1/10\n",
      "782/782 [==============================] - 74s 90ms/step - loss: 0.4598 - accuracy: 0.7814 - val_loss: 0.3607 - val_accuracy: 0.8452\n",
      "Epoch 2/10\n",
      "782/782 [==============================] - 37s 48ms/step - loss: 0.3207 - accuracy: 0.8656 - val_loss: 0.3318 - val_accuracy: 0.8652\n",
      "Epoch 3/10\n",
      "782/782 [==============================] - 31s 39ms/step - loss: 0.2613 - accuracy: 0.8958 - val_loss: 0.3495 - val_accuracy: 0.8536\n",
      "Epoch 4/10\n",
      "782/782 [==============================] - 29s 37ms/step - loss: 0.2179 - accuracy: 0.9160 - val_loss: 0.3252 - val_accuracy: 0.8732\n",
      "Epoch 5/10\n",
      "782/782 [==============================] - 29s 37ms/step - loss: 0.1995 - accuracy: 0.9228 - val_loss: 0.3922 - val_accuracy: 0.8266\n",
      "Epoch 6/10\n",
      "782/782 [==============================] - 23s 29ms/step - loss: 0.1607 - accuracy: 0.9380 - val_loss: 0.3556 - val_accuracy: 0.8600\n",
      "Epoch 7/10\n",
      "782/782 [==============================] - 22s 28ms/step - loss: 0.1352 - accuracy: 0.9506 - val_loss: 0.3940 - val_accuracy: 0.8573\n",
      "Epoch 8/10\n",
      "782/782 [==============================] - 23s 29ms/step - loss: 0.1140 - accuracy: 0.9594 - val_loss: 0.4485 - val_accuracy: 0.8608\n",
      "Epoch 9/10\n",
      "782/782 [==============================] - 27s 35ms/step - loss: 0.1202 - accuracy: 0.9564 - val_loss: 0.5279 - val_accuracy: 0.8322\n",
      "Epoch 10/10\n",
      "782/782 [==============================] - 22s 28ms/step - loss: 0.1125 - accuracy: 0.9589 - val_loss: 0.5063 - val_accuracy: 0.8373\n"
     ]
    },
    {
     "data": {
      "text/plain": [
       "<keras.callbacks.History at 0x7f1245785850>"
      ]
     },
     "execution_count": 21,
     "metadata": {},
     "output_type": "execute_result"
    }
   ],
   "source": [
    "model = Sequential()\n",
    "model.add(Embedding(5000,32,input_length=500))\n",
    "model.add(LSTM(100))\n",
    "model.add(Dense(1,activation='sigmoid'))\n",
    "model.compile(optimizer='adam',loss='binary_crossentropy',metrics=['accuracy'])\n",
    "model.fit(x_train,y_train,validation_data=(x_test,y_test),epochs=10,batch_size=32)"
   ]
  },
  {
   "cell_type": "code",
   "execution_count": 21,
   "metadata": {
    "id": "MUakgBT53Hls"
   },
   "outputs": [],
   "source": []
  },
  {
   "cell_type": "code",
   "execution_count": 21,
   "metadata": {
    "id": "qGRGyTon3HoY"
   },
   "outputs": [],
   "source": []
  },
  {
   "cell_type": "code",
   "execution_count": 21,
   "metadata": {
    "id": "tzZGMcZm3Hqc"
   },
   "outputs": [],
   "source": []
  },
  {
   "cell_type": "code",
   "execution_count": 21,
   "metadata": {
    "id": "4dBXR0Ya3Hs6"
   },
   "outputs": [],
   "source": []
  },
  {
   "cell_type": "code",
   "execution_count": 21,
   "metadata": {
    "id": "_jCXqbyW3HvT"
   },
   "outputs": [],
   "source": []
  },
  {
   "cell_type": "code",
   "execution_count": 21,
   "metadata": {
    "id": "-5xiVEJV3HzQ"
   },
   "outputs": [],
   "source": []
  },
  {
   "cell_type": "code",
   "execution_count": 21,
   "metadata": {
    "id": "ZAAhBr263H1s"
   },
   "outputs": [],
   "source": []
  },
  {
   "cell_type": "code",
   "execution_count": 21,
   "metadata": {
    "id": "NAI0ezbm3H4V"
   },
   "outputs": [],
   "source": []
  }
 ],
 "metadata": {
  "accelerator": "GPU",
  "colab": {
   "provenance": []
  },
  "gpuClass": "standard",
  "kernelspec": {
   "display_name": "Python 3 (ipykernel)",
   "language": "python",
   "name": "python3"
  },
  "language_info": {
   "codemirror_mode": {
    "name": "ipython",
    "version": 3
   },
   "file_extension": ".py",
   "mimetype": "text/x-python",
   "name": "python",
   "nbconvert_exporter": "python",
   "pygments_lexer": "ipython3",
   "version": "3.9.16"
  }
 },
 "nbformat": 4,
 "nbformat_minor": 1
}
