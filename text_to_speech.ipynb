{
 "cells": [
  {
   "cell_type": "code",
   "execution_count": 1,
   "id": "6deda134",
   "metadata": {},
   "outputs": [
    {
     "name": "stdout",
     "output_type": "stream",
     "text": [
      "Collecting gTTs\n",
      "  Downloading gTTS-2.3.1-py3-none-any.whl (28 kB)\n",
      "Requirement already satisfied: requests<3,>=2.27 in e:\\anaconda\\lib\\site-packages (from gTTs) (2.28.1)\n",
      "Requirement already satisfied: click<8.2,>=7.1 in e:\\anaconda\\lib\\site-packages (from gTTs) (8.0.4)\n",
      "Requirement already satisfied: colorama in e:\\anaconda\\lib\\site-packages (from click<8.2,>=7.1->gTTs) (0.4.6)\n",
      "Requirement already satisfied: urllib3<1.27,>=1.21.1 in e:\\anaconda\\lib\\site-packages (from requests<3,>=2.27->gTTs) (1.26.14)\n",
      "Requirement already satisfied: charset-normalizer<3,>=2 in e:\\anaconda\\lib\\site-packages (from requests<3,>=2.27->gTTs) (2.0.4)\n",
      "Requirement already satisfied: idna<4,>=2.5 in e:\\anaconda\\lib\\site-packages (from requests<3,>=2.27->gTTs) (3.4)\n",
      "Requirement already satisfied: certifi>=2017.4.17 in e:\\anaconda\\lib\\site-packages (from requests<3,>=2.27->gTTs) (2022.12.7)\n",
      "Installing collected packages: gTTs\n",
      "Successfully installed gTTs-2.3.1\n"
     ]
    }
   ],
   "source": [
    "# !pip install gTTs"
   ]
  },
  {
   "cell_type": "code",
   "execution_count": 3,
   "id": "0c09886f",
   "metadata": {},
   "outputs": [],
   "source": [
    "from gtts import gTTS"
   ]
  },
  {
   "cell_type": "code",
   "execution_count": 4,
   "id": "bdf17287",
   "metadata": {},
   "outputs": [
    {
     "name": "stdout",
     "output_type": "stream",
     "text": [
      "Enter your sentence RNN: Used for speech recognition, voice recognition, time series prediction, and natural language processing.\n"
     ]
    }
   ],
   "source": [
    "my_sen = input('Enter your sentence: ')"
   ]
  },
  {
   "cell_type": "code",
   "execution_count": 6,
   "id": "3d193413",
   "metadata": {},
   "outputs": [],
   "source": [
    "sen = gTTS(text=my_sen,lang='en',slow=False)"
   ]
  },
  {
   "cell_type": "code",
   "execution_count": 7,
   "id": "58f34b5e",
   "metadata": {},
   "outputs": [],
   "source": [
    "# text to speech recording -\n",
    "sen.save('text_to_speech.mp3')"
   ]
  },
  {
   "cell_type": "code",
   "execution_count": null,
   "id": "35cfafc0",
   "metadata": {},
   "outputs": [],
   "source": [
    "# text to speech in hindi- change language code - \n",
    "sen = gTTS(text=my_sen,lang='hi',slow=False)"
   ]
  },
  {
   "cell_type": "code",
   "execution_count": null,
   "id": "ca94f686",
   "metadata": {},
   "outputs": [],
   "source": []
  },
  {
   "cell_type": "code",
   "execution_count": null,
   "id": "3343010b",
   "metadata": {},
   "outputs": [],
   "source": []
  },
  {
   "cell_type": "code",
   "execution_count": null,
   "id": "d3e0e382",
   "metadata": {},
   "outputs": [],
   "source": []
  },
  {
   "cell_type": "code",
   "execution_count": null,
   "id": "b6648acb",
   "metadata": {},
   "outputs": [],
   "source": []
  }
 ],
 "metadata": {
  "kernelspec": {
   "display_name": "Python 3 (ipykernel)",
   "language": "python",
   "name": "python3"
  },
  "language_info": {
   "codemirror_mode": {
    "name": "ipython",
    "version": 3
   },
   "file_extension": ".py",
   "mimetype": "text/x-python",
   "name": "python",
   "nbconvert_exporter": "python",
   "pygments_lexer": "ipython3",
   "version": "3.9.16"
  }
 },
 "nbformat": 4,
 "nbformat_minor": 5
}
