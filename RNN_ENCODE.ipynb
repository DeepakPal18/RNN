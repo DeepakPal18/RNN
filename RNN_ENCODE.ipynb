{
  "nbformat": 4,
  "nbformat_minor": 0,
  "metadata": {
    "colab": {
      "provenance": []
    },
    "kernelspec": {
      "name": "python3",
      "display_name": "Python 3"
    },
    "language_info": {
      "name": "python"
    },
    "accelerator": "GPU",
    "gpuClass": "standard"
  },
  "cells": [
    {
      "cell_type": "markdown",
      "source": [
        "### RNN - Integer Encoding Approach"
      ],
      "metadata": {
        "id": "cVvTFI2XE4le"
      }
    },
    {
      "cell_type": "code",
      "source": [
        "import numpy as np\n",
        "doc = ['hello guys','babmb rnn','gg bois','walk good','dog best','king holy moly',\n",
        "       'superman is dope','doing great']"
      ],
      "metadata": {
        "id": "XLVShvR5E1ne"
      },
      "execution_count": 23,
      "outputs": []
    },
    {
      "cell_type": "code",
      "source": [
        "len(doc)"
      ],
      "metadata": {
        "colab": {
          "base_uri": "https://localhost:8080/"
        },
        "id": "HXbMFhEbGCDv",
        "outputId": "5c50a097-5657-44ce-f512-929711a2eaa9"
      },
      "execution_count": 24,
      "outputs": [
        {
          "output_type": "execute_result",
          "data": {
            "text/plain": [
              "8"
            ]
          },
          "metadata": {},
          "execution_count": 24
        }
      ]
    },
    {
      "cell_type": "code",
      "source": [
        "# tokenizer - split word by word\n",
        "from keras.preprocessing.text import Tokenizer\n",
        "tk = Tokenizer(oov_token = '<pal>') # oov_token = out of vocab \n",
        "# any new words will come(out of voab) will be denoted by pal"
      ],
      "metadata": {
        "id": "fEpYKNcvCpLc"
      },
      "execution_count": 25,
      "outputs": []
    },
    {
      "cell_type": "code",
      "source": [
        "tk.fit_on_texts(doc)"
      ],
      "metadata": {
        "id": "o1KYwMIxCpN4"
      },
      "execution_count": 26,
      "outputs": []
    },
    {
      "cell_type": "code",
      "source": [
        "tk.word_index"
      ],
      "metadata": {
        "colab": {
          "base_uri": "https://localhost:8080/"
        },
        "id": "vn-4qiSFCpQI",
        "outputId": "fb0030a9-ae99-4ffc-c7c0-640e4b3dbea3"
      },
      "execution_count": 27,
      "outputs": [
        {
          "output_type": "execute_result",
          "data": {
            "text/plain": [
              "{'<pal>': 1,\n",
              " 'hello': 2,\n",
              " 'guys': 3,\n",
              " 'babmb': 4,\n",
              " 'rnn': 5,\n",
              " 'gg': 6,\n",
              " 'bois': 7,\n",
              " 'walk': 8,\n",
              " 'good': 9,\n",
              " 'dog': 10,\n",
              " 'best': 11,\n",
              " 'king': 12,\n",
              " 'holy': 13,\n",
              " 'moly': 14,\n",
              " 'superman': 15,\n",
              " 'is': 16,\n",
              " 'dope': 17,\n",
              " 'doing': 18,\n",
              " 'great': 19}"
            ]
          },
          "metadata": {},
          "execution_count": 27
        }
      ]
    },
    {
      "cell_type": "code",
      "source": [
        "# any new word that will come will be denoted by 1"
      ],
      "metadata": {
        "id": "gRXL90bACpR4"
      },
      "execution_count": 28,
      "outputs": []
    },
    {
      "cell_type": "code",
      "source": [
        "tk.word_counts"
      ],
      "metadata": {
        "id": "bpIfVim8CpTt",
        "colab": {
          "base_uri": "https://localhost:8080/"
        },
        "outputId": "2ac7b01a-fa8e-4088-d439-f1bb9068ae41"
      },
      "execution_count": 29,
      "outputs": [
        {
          "output_type": "execute_result",
          "data": {
            "text/plain": [
              "OrderedDict([('hello', 1),\n",
              "             ('guys', 1),\n",
              "             ('babmb', 1),\n",
              "             ('rnn', 1),\n",
              "             ('gg', 1),\n",
              "             ('bois', 1),\n",
              "             ('walk', 1),\n",
              "             ('good', 1),\n",
              "             ('dog', 1),\n",
              "             ('best', 1),\n",
              "             ('king', 1),\n",
              "             ('holy', 1),\n",
              "             ('moly', 1),\n",
              "             ('superman', 1),\n",
              "             ('is', 1),\n",
              "             ('dope', 1),\n",
              "             ('doing', 1),\n",
              "             ('great', 1)])"
            ]
          },
          "metadata": {},
          "execution_count": 29
        }
      ]
    },
    {
      "cell_type": "code",
      "source": [
        "# replace words with the token indexes in doc\n",
        "seq = tk.texts_to_sequences(doc)\n",
        "seq"
      ],
      "metadata": {
        "colab": {
          "base_uri": "https://localhost:8080/"
        },
        "id": "mAqdyIl4Hd-b",
        "outputId": "047947ad-6d63-4262-f1fc-171017010a0e"
      },
      "execution_count": 30,
      "outputs": [
        {
          "output_type": "execute_result",
          "data": {
            "text/plain": [
              "[[2, 3],\n",
              " [4, 5],\n",
              " [6, 7],\n",
              " [8, 9],\n",
              " [10, 11],\n",
              " [12, 13, 14],\n",
              " [15, 16, 17],\n",
              " [18, 19]]"
            ]
          },
          "metadata": {},
          "execution_count": 30
        }
      ]
    },
    {
      "cell_type": "code",
      "source": [
        "# padding to equal the length of sequences-\n",
        "from keras.utils import pad_sequences"
      ],
      "metadata": {
        "id": "eZNlYR5JCpVr"
      },
      "execution_count": 31,
      "outputs": []
    },
    {
      "cell_type": "code",
      "source": [
        "seq1 = pad_sequences(seq,padding='pre')\n",
        "seq2 = pad_sequences(seq,padding='post')"
      ],
      "metadata": {
        "id": "71oL9CrYCpXt"
      },
      "execution_count": 32,
      "outputs": []
    },
    {
      "cell_type": "code",
      "source": [
        "seq1   # padding = pre"
      ],
      "metadata": {
        "id": "UZIzuE1RCpZk",
        "colab": {
          "base_uri": "https://localhost:8080/"
        },
        "outputId": "13093a2a-4dd1-4ab0-a629-7f3f4b7f6fa8"
      },
      "execution_count": 33,
      "outputs": [
        {
          "output_type": "execute_result",
          "data": {
            "text/plain": [
              "array([[ 0,  2,  3],\n",
              "       [ 0,  4,  5],\n",
              "       [ 0,  6,  7],\n",
              "       [ 0,  8,  9],\n",
              "       [ 0, 10, 11],\n",
              "       [12, 13, 14],\n",
              "       [15, 16, 17],\n",
              "       [ 0, 18, 19]], dtype=int32)"
            ]
          },
          "metadata": {},
          "execution_count": 33
        }
      ]
    },
    {
      "cell_type": "code",
      "source": [
        "seq2   # padding = post"
      ],
      "metadata": {
        "id": "kPtJtQ-5CpbI",
        "colab": {
          "base_uri": "https://localhost:8080/"
        },
        "outputId": "2082727d-7a87-436a-dc18-de0c64741b49"
      },
      "execution_count": 34,
      "outputs": [
        {
          "output_type": "execute_result",
          "data": {
            "text/plain": [
              "array([[ 2,  3,  0],\n",
              "       [ 4,  5,  0],\n",
              "       [ 6,  7,  0],\n",
              "       [ 8,  9,  0],\n",
              "       [10, 11,  0],\n",
              "       [12, 13, 14],\n",
              "       [15, 16, 17],\n",
              "       [18, 19,  0]], dtype=int32)"
            ]
          },
          "metadata": {},
          "execution_count": 34
        }
      ]
    },
    {
      "cell_type": "markdown",
      "source": [
        "### Integer encoding on keras.imdb dataset"
      ],
      "metadata": {
        "id": "duACro18Mgx_"
      }
    },
    {
      "cell_type": "code",
      "source": [
        "from keras.datasets import imdb\n",
        "from keras import Sequential\n",
        "from keras.layers import Dense, SimpleRNN, Embedding, Flatten"
      ],
      "metadata": {
        "id": "k3PRa5mACpc4"
      },
      "execution_count": 35,
      "outputs": []
    },
    {
      "cell_type": "code",
      "source": [
        "(x_train, y_train),(x_test,y_test) = imdb.load_data() # pre-processed data"
      ],
      "metadata": {
        "id": "JftZJPOBIWUC"
      },
      "execution_count": 36,
      "outputs": []
    },
    {
      "cell_type": "code",
      "source": [
        "x_train.shape"
      ],
      "metadata": {
        "colab": {
          "base_uri": "https://localhost:8080/"
        },
        "id": "lbJL8G5uIWWt",
        "outputId": "450dce46-617e-4ec3-8c23-0519063f0929"
      },
      "execution_count": 37,
      "outputs": [
        {
          "output_type": "execute_result",
          "data": {
            "text/plain": [
              "(25000,)"
            ]
          },
          "metadata": {},
          "execution_count": 37
        }
      ]
    },
    {
      "cell_type": "code",
      "source": [
        "len(x_train[0])"
      ],
      "metadata": {
        "colab": {
          "base_uri": "https://localhost:8080/"
        },
        "id": "YduOR1UyIWZB",
        "outputId": "afeaf27d-9ef2-4438-b15d-d385201a9da3"
      },
      "execution_count": 38,
      "outputs": [
        {
          "output_type": "execute_result",
          "data": {
            "text/plain": [
              "218"
            ]
          },
          "metadata": {},
          "execution_count": 38
        }
      ]
    },
    {
      "cell_type": "code",
      "source": [
        "len(x_train[1])"
      ],
      "metadata": {
        "colab": {
          "base_uri": "https://localhost:8080/"
        },
        "id": "5X54YRsDIWbf",
        "outputId": "dbe9b04c-c892-4d68-a919-5745f5dc6c0f"
      },
      "execution_count": 39,
      "outputs": [
        {
          "output_type": "execute_result",
          "data": {
            "text/plain": [
              "189"
            ]
          },
          "metadata": {},
          "execution_count": 39
        }
      ]
    },
    {
      "cell_type": "code",
      "source": [
        "# padding required since we have different length in reviews\n",
        "from keras.utils import pad_sequences"
      ],
      "metadata": {
        "id": "KqVrp6_eIWdx"
      },
      "execution_count": 40,
      "outputs": []
    },
    {
      "cell_type": "code",
      "source": [
        "x_train = pad_sequences(x_train, padding='post',maxlen=100)\n",
        "x_test = pad_sequences(x_test, padding='post',maxlen=100)\n",
        "# don't use maxlen,using maxlen to only get first 100 words from review ; fast processing\n",
        "# maxlen is used to reduce the computational process ,coupled with padding post\n",
        "# and giving suitable maxlen it will capture only dense numbers and pruning sparse numbers."
      ],
      "metadata": {
        "id": "IBEYYG7GIWf1"
      },
      "execution_count": 41,
      "outputs": []
    },
    {
      "cell_type": "code",
      "source": [
        "len(x_train[1]) # len is comming 100 for all reviews due to maxlen"
      ],
      "metadata": {
        "colab": {
          "base_uri": "https://localhost:8080/"
        },
        "id": "SSy6YDbwIWiA",
        "outputId": "8985f470-8f2a-483e-d44f-e02ed7f9d4fc"
      },
      "execution_count": 42,
      "outputs": [
        {
          "output_type": "execute_result",
          "data": {
            "text/plain": [
              "100"
            ]
          },
          "metadata": {},
          "execution_count": 42
        }
      ]
    },
    {
      "cell_type": "code",
      "source": [
        "model = Sequential()\n",
        "model.add(SimpleRNN(32,input_shape=(100,1),return_sequences=False)) # to get the final output not each layer output(via True)\n",
        "model.add(Dense(1,activation='sigmoid'))\n",
        "model.summary()\n",
        "# write return_sequences=True , when you want each part of words recognition (manytomany)\n",
        "# here only want to process 100 words in sentence and give the final output sentiment(manyto1)"
      ],
      "metadata": {
        "colab": {
          "base_uri": "https://localhost:8080/"
        },
        "id": "XmPmNYC3IWkK",
        "outputId": "554c4999-fbda-4638-acbc-725bf767b31e"
      },
      "execution_count": 43,
      "outputs": [
        {
          "output_type": "stream",
          "name": "stdout",
          "text": [
            "Model: \"sequential_1\"\n",
            "_________________________________________________________________\n",
            " Layer (type)                Output Shape              Param #   \n",
            "=================================================================\n",
            " simple_rnn_1 (SimpleRNN)    (None, 32)                1088      \n",
            "                                                                 \n",
            " dense_1 (Dense)             (None, 1)                 33        \n",
            "                                                                 \n",
            "=================================================================\n",
            "Total params: 1,121\n",
            "Trainable params: 1,121\n",
            "Non-trainable params: 0\n",
            "_________________________________________________________________\n"
          ]
        }
      ]
    },
    {
      "cell_type": "code",
      "source": [
        "# input layer(1)x32 -> output again passed as input rnn(32x32) -> output(32x1)\n",
        "# ->32 bias -> 1 = 1121"
      ],
      "metadata": {
        "id": "CWq5wxhhIWmd"
      },
      "execution_count": 44,
      "outputs": []
    },
    {
      "cell_type": "code",
      "source": [
        "model.compile(optimizer='adam',loss='binary_crossentropy',metrics = ['accuracy'])\n",
        "model.fit(x_train,y_train, validation_data=(x_test,y_test),batch_size=32,epochs=10)"
      ],
      "metadata": {
        "colab": {
          "base_uri": "https://localhost:8080/"
        },
        "id": "r1sDbZh8IWot",
        "outputId": "034ecb5d-15ae-4c1a-dfbc-f0eac68b7d97"
      },
      "execution_count": 45,
      "outputs": [
        {
          "output_type": "stream",
          "name": "stdout",
          "text": [
            "Epoch 1/10\n",
            "782/782 [==============================] - 68s 85ms/step - loss: 0.7003 - accuracy: 0.5032 - val_loss: 0.6943 - val_accuracy: 0.4984\n",
            "Epoch 2/10\n",
            "782/782 [==============================] - 62s 79ms/step - loss: 0.6930 - accuracy: 0.5119 - val_loss: 0.6928 - val_accuracy: 0.5118\n",
            "Epoch 3/10\n",
            "782/782 [==============================] - 58s 75ms/step - loss: 0.6928 - accuracy: 0.5100 - val_loss: 0.6924 - val_accuracy: 0.5102\n",
            "Epoch 4/10\n",
            "782/782 [==============================] - 60s 77ms/step - loss: 0.6926 - accuracy: 0.5196 - val_loss: 0.6938 - val_accuracy: 0.5065\n",
            "Epoch 5/10\n",
            "782/782 [==============================] - 57s 73ms/step - loss: 0.6925 - accuracy: 0.5104 - val_loss: 0.6928 - val_accuracy: 0.5108\n",
            "Epoch 6/10\n",
            "782/782 [==============================] - 58s 74ms/step - loss: 0.6924 - accuracy: 0.5130 - val_loss: 0.6930 - val_accuracy: 0.5064\n",
            "Epoch 7/10\n",
            "782/782 [==============================] - 58s 74ms/step - loss: 0.6926 - accuracy: 0.5140 - val_loss: 0.6926 - val_accuracy: 0.5110\n",
            "Epoch 8/10\n",
            "782/782 [==============================] - 57s 73ms/step - loss: 0.6930 - accuracy: 0.5146 - val_loss: 0.6934 - val_accuracy: 0.5076\n",
            "Epoch 9/10\n",
            "782/782 [==============================] - 57s 73ms/step - loss: 0.6927 - accuracy: 0.5118 - val_loss: 0.6926 - val_accuracy: 0.5091\n",
            "Epoch 10/10\n",
            "782/782 [==============================] - 57s 73ms/step - loss: 0.6923 - accuracy: 0.5154 - val_loss: 0.6967 - val_accuracy: 0.5087\n"
          ]
        },
        {
          "output_type": "execute_result",
          "data": {
            "text/plain": [
              "<keras.callbacks.History at 0x7f27496d3100>"
            ]
          },
          "metadata": {},
          "execution_count": 45
        }
      ]
    },
    {
      "cell_type": "code",
      "source": [],
      "metadata": {
        "id": "OhKKTbEMIWrR"
      },
      "execution_count": 45,
      "outputs": []
    },
    {
      "cell_type": "markdown",
      "source": [
        "### RNN - Embedding Approach"
      ],
      "metadata": {
        "id": "yadixVdrWg9s"
      }
    },
    {
      "cell_type": "code",
      "source": [
        "doc = ['hello guys','babmb rnn','gg bois','walk good','dog best','king holy moly',\n",
        "       'superman is dope','doing great']"
      ],
      "metadata": {
        "id": "26pPgNieIWtr"
      },
      "execution_count": 46,
      "outputs": []
    },
    {
      "cell_type": "code",
      "source": [
        "# tokenizer - split word by word\n",
        "from keras.preprocessing.text import Tokenizer\n",
        "tk1 = Tokenizer() "
      ],
      "metadata": {
        "id": "nEa7TrJJCpfZ"
      },
      "execution_count": 47,
      "outputs": []
    },
    {
      "cell_type": "code",
      "source": [
        "tk1.fit_on_texts(doc)"
      ],
      "metadata": {
        "id": "biXL111cCphR"
      },
      "execution_count": 48,
      "outputs": []
    },
    {
      "cell_type": "code",
      "source": [
        "tk1.word_index"
      ],
      "metadata": {
        "colab": {
          "base_uri": "https://localhost:8080/"
        },
        "id": "2ETM5G-HXHGa",
        "outputId": "0d3ea7b8-9e8f-40d9-a6fd-fd4d3fe27ba2"
      },
      "execution_count": 49,
      "outputs": [
        {
          "output_type": "execute_result",
          "data": {
            "text/plain": [
              "{'hello': 1,\n",
              " 'guys': 2,\n",
              " 'babmb': 3,\n",
              " 'rnn': 4,\n",
              " 'gg': 5,\n",
              " 'bois': 6,\n",
              " 'walk': 7,\n",
              " 'good': 8,\n",
              " 'dog': 9,\n",
              " 'best': 10,\n",
              " 'king': 11,\n",
              " 'holy': 12,\n",
              " 'moly': 13,\n",
              " 'superman': 14,\n",
              " 'is': 15,\n",
              " 'dope': 16,\n",
              " 'doing': 17,\n",
              " 'great': 18}"
            ]
          },
          "metadata": {},
          "execution_count": 49
        }
      ]
    },
    {
      "cell_type": "code",
      "source": [
        "seq = tk1.texts_to_sequences(doc)\n",
        "seq"
      ],
      "metadata": {
        "colab": {
          "base_uri": "https://localhost:8080/"
        },
        "id": "civaEvsoXHI1",
        "outputId": "c3ab9757-b411-4875-9aa1-a467d0cffe27"
      },
      "execution_count": 50,
      "outputs": [
        {
          "output_type": "execute_result",
          "data": {
            "text/plain": [
              "[[1, 2], [3, 4], [5, 6], [7, 8], [9, 10], [11, 12, 13], [14, 15, 16], [17, 18]]"
            ]
          },
          "metadata": {},
          "execution_count": 50
        }
      ]
    },
    {
      "cell_type": "code",
      "source": [
        "from keras.utils import pad_sequences\n",
        "seq1 = pad_sequences(seq,padding='post')\n",
        "seq1"
      ],
      "metadata": {
        "colab": {
          "base_uri": "https://localhost:8080/"
        },
        "id": "k_pFGl8TXHK_",
        "outputId": "1f5c83a9-4ca8-4c2d-b93a-050729ac9551"
      },
      "execution_count": 52,
      "outputs": [
        {
          "output_type": "execute_result",
          "data": {
            "text/plain": [
              "array([[ 1,  2,  0],\n",
              "       [ 3,  4,  0],\n",
              "       [ 5,  6,  0],\n",
              "       [ 7,  8,  0],\n",
              "       [ 9, 10,  0],\n",
              "       [11, 12, 13],\n",
              "       [14, 15, 16],\n",
              "       [17, 18,  0]], dtype=int32)"
            ]
          },
          "metadata": {},
          "execution_count": 52
        }
      ]
    },
    {
      "cell_type": "code",
      "source": [
        "# embedding - always consider the dense vector(non-zero, non sparse)\n",
        "model = Sequential()\n",
        "model.add(Embedding(18,output_dim=2,input_length=3))\n",
        "# output_dim is hidden layer neuron\n",
        "model.summary()"
      ],
      "metadata": {
        "colab": {
          "base_uri": "https://localhost:8080/"
        },
        "id": "UZrJb8u7XHRO",
        "outputId": "65db74d5-e531-46a2-c087-835b4ef7c2c7"
      },
      "execution_count": 54,
      "outputs": [
        {
          "output_type": "stream",
          "name": "stdout",
          "text": [
            "Model: \"sequential_2\"\n",
            "_________________________________________________________________\n",
            " Layer (type)                Output Shape              Param #   \n",
            "=================================================================\n",
            " embedding (Embedding)       (None, 3, 2)              36        \n",
            "                                                                 \n",
            "=================================================================\n",
            "Total params: 36\n",
            "Trainable params: 36\n",
            "Non-trainable params: 0\n",
            "_________________________________________________________________\n"
          ]
        }
      ]
    },
    {
      "cell_type": "code",
      "source": [
        "model.compile(optimizer='adam',metrics=['accuracy'])\n",
        "pred = model.predict(seq1)\n",
        "print(pred)\n",
        "# Embedding gave dense vector -"
      ],
      "metadata": {
        "colab": {
          "base_uri": "https://localhost:8080/"
        },
        "id": "M8QVzPWQXHTP",
        "outputId": "5efd37a6-2ee8-481e-be5c-b501d2f9ddd5"
      },
      "execution_count": 56,
      "outputs": [
        {
          "output_type": "stream",
          "name": "stdout",
          "text": [
            "1/1 [==============================] - 0s 77ms/step\n",
            "[[[ 0.03470682  0.02604291]\n",
            "  [-0.00655509  0.02036904]\n",
            "  [-0.01391447  0.0388681 ]]\n",
            "\n",
            " [[-0.03049067 -0.01596469]\n",
            "  [-0.02683282  0.03326324]\n",
            "  [-0.01391447  0.0388681 ]]\n",
            "\n",
            " [[-0.04039925  0.04698325]\n",
            "  [-0.00536622  0.02841197]\n",
            "  [-0.01391447  0.0388681 ]]\n",
            "\n",
            " [[ 0.01974135  0.04763727]\n",
            "  [ 0.03672074 -0.03850418]\n",
            "  [-0.01391447  0.0388681 ]]\n",
            "\n",
            " [[ 0.01828288  0.01271949]\n",
            "  [-0.03547676  0.00301512]\n",
            "  [-0.01391447  0.0388681 ]]\n",
            "\n",
            " [[-0.03979013 -0.0234611 ]\n",
            "  [ 0.04500384  0.01792424]\n",
            "  [ 0.01466273 -0.01980059]]\n",
            "\n",
            " [[-0.03323817 -0.01857818]\n",
            "  [ 0.0296809  -0.00926771]\n",
            "  [-0.04046168 -0.00979358]]\n",
            "\n",
            " [[-0.00497278 -0.02353524]\n",
            "  [ 0.          0.        ]\n",
            "  [-0.01391447  0.0388681 ]]]\n"
          ]
        }
      ]
    },
    {
      "cell_type": "code",
      "source": [
        "# using Embedding method with imdb dataset-"
      ],
      "metadata": {
        "id": "kGdL3Q0BXHVF"
      },
      "execution_count": null,
      "outputs": []
    },
    {
      "cell_type": "code",
      "source": [
        "from keras.datasets import imdb\n",
        "from keras import Sequential\n",
        "from keras.layers import Dense, SimpleRNN, Embedding, Flatten"
      ],
      "metadata": {
        "id": "ryZrqSmSXHYq"
      },
      "execution_count": 57,
      "outputs": []
    },
    {
      "cell_type": "code",
      "source": [
        "(x_train, y_train),(x_test,y_test) = imdb.load_data()"
      ],
      "metadata": {
        "id": "YDe4gLLwaUe5"
      },
      "execution_count": 59,
      "outputs": []
    },
    {
      "cell_type": "code",
      "source": [
        "x_train = pad_sequences(x_train, padding='post',maxlen=100)\n",
        "x_test = pad_sequences(x_test, padding='post',maxlen=100)"
      ],
      "metadata": {
        "id": "Iva2Ug1SXHa8"
      },
      "execution_count": 60,
      "outputs": []
    },
    {
      "cell_type": "code",
      "source": [
        "x_train.shape"
      ],
      "metadata": {
        "colab": {
          "base_uri": "https://localhost:8080/"
        },
        "id": "e3kjiBxMXHeT",
        "outputId": "5209ae88-bfce-4324-85c3-f6896c094472"
      },
      "execution_count": 61,
      "outputs": [
        {
          "output_type": "execute_result",
          "data": {
            "text/plain": [
              "(25000, 100)"
            ]
          },
          "metadata": {},
          "execution_count": 61
        }
      ]
    },
    {
      "cell_type": "code",
      "source": [
        "model = Sequential()\n",
        "model.add(Embedding(10000,output_dim=2,input_length=100)) \n",
        "#choosing 10000 out of 25000 randomly, maxfeatures =100\n",
        "model.add(SimpleRNN(32,return_sequences=False))\n",
        "model.add(Dense(1,activation='sigmoid'))\n",
        "model.summary()"
      ],
      "metadata": {
        "colab": {
          "base_uri": "https://localhost:8080/"
        },
        "id": "SQCE4bHWafyf",
        "outputId": "889588b3-a782-448c-a59c-4f8a33127e37"
      },
      "execution_count": 62,
      "outputs": [
        {
          "output_type": "stream",
          "name": "stdout",
          "text": [
            "Model: \"sequential_3\"\n",
            "_________________________________________________________________\n",
            " Layer (type)                Output Shape              Param #   \n",
            "=================================================================\n",
            " embedding_1 (Embedding)     (None, 100, 2)            20000     \n",
            "                                                                 \n",
            " simple_rnn_2 (SimpleRNN)    (None, 32)                1120      \n",
            "                                                                 \n",
            " dense_2 (Dense)             (None, 1)                 33        \n",
            "                                                                 \n",
            "=================================================================\n",
            "Total params: 21,153\n",
            "Trainable params: 21,153\n",
            "Non-trainable params: 0\n",
            "_________________________________________________________________\n"
          ]
        }
      ]
    },
    {
      "cell_type": "code",
      "source": [
        "# Significant increase in accuracy- by using Embedding method over integer encoder\n",
        "model.compile(optimizer='adam',loss='binary_crossentropy',metrics=['accuracy'])\n",
        "model.fit(x_train,y_train,validation_data=(x_test,y_test),batch_size=32,epochs=5)"
      ],
      "metadata": {
        "colab": {
          "base_uri": "https://localhost:8080/"
        },
        "id": "RTYahw_zaf0_",
        "outputId": "36ae9e73-4847-4195-c3e0-52886005dc0b"
      },
      "execution_count": 63,
      "outputs": [
        {
          "output_type": "stream",
          "name": "stdout",
          "text": [
            "Epoch 1/5\n",
            "782/782 [==============================] - 128s 161ms/step - loss: 0.6905 - accuracy: 0.5260 - val_loss: 0.6815 - val_accuracy: 0.5649\n",
            "Epoch 2/5\n",
            "782/782 [==============================] - 92s 117ms/step - loss: 0.6331 - accuracy: 0.6346 - val_loss: 0.5318 - val_accuracy: 0.7345\n",
            "Epoch 3/5\n",
            "782/782 [==============================] - 90s 114ms/step - loss: 0.4216 - accuracy: 0.8121 - val_loss: 0.4199 - val_accuracy: 0.8224\n",
            "Epoch 4/5\n",
            "782/782 [==============================] - 91s 116ms/step - loss: 0.3119 - accuracy: 0.8719 - val_loss: 0.4184 - val_accuracy: 0.8286\n",
            "Epoch 5/5\n",
            "782/782 [==============================] - 89s 113ms/step - loss: 0.2493 - accuracy: 0.9044 - val_loss: 0.4601 - val_accuracy: 0.7996\n"
          ]
        },
        {
          "output_type": "execute_result",
          "data": {
            "text/plain": [
              "<keras.callbacks.History at 0x7f2748af64c0>"
            ]
          },
          "metadata": {},
          "execution_count": 63
        }
      ]
    },
    {
      "cell_type": "code",
      "source": [],
      "metadata": {
        "id": "0Xrj4vjUaf3g"
      },
      "execution_count": null,
      "outputs": []
    },
    {
      "cell_type": "code",
      "source": [],
      "metadata": {
        "id": "3GxVAEJsaf5_"
      },
      "execution_count": null,
      "outputs": []
    },
    {
      "cell_type": "code",
      "source": [],
      "metadata": {
        "id": "9EDZCDkvaf8P"
      },
      "execution_count": null,
      "outputs": []
    },
    {
      "cell_type": "code",
      "source": [],
      "metadata": {
        "id": "HWMjP5FYaf-R"
      },
      "execution_count": null,
      "outputs": []
    },
    {
      "cell_type": "code",
      "source": [],
      "metadata": {
        "id": "oYL6uXJEXHgm"
      },
      "execution_count": null,
      "outputs": []
    },
    {
      "cell_type": "code",
      "source": [],
      "metadata": {
        "id": "t-vOQ7TOXHji"
      },
      "execution_count": null,
      "outputs": []
    }
  ]
}